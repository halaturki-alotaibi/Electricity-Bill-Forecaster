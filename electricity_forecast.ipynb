{
  "nbformat": 4,
  "nbformat_minor": 0,
  "metadata": {
    "colab": {
      "provenance": []
    },
    "kernelspec": {
      "name": "python3",
      "display_name": "Python 3"
    },
    "language_info": {
      "name": "python"
    }
  },
  "cells": [
    {
      "cell_type": "code",
      "source": [
        "import pandas as pd\n",
        "\n",
        "# قراءة البيانات\n",
        "df = pd.read_csv('dataset.csv')\n",
        "\n",
        "# تحويل عمود التاريخ إلى datetime\n",
        "df['Date'] = pd.to_datetime(df['Date'], format='%b-%y')  # مثال: Jan-20\n",
        "\n",
        "# إنشاء عمود الشهر والشهر-السنة\n",
        "df['month'] = df['Date'].dt.to_period('M')\n",
        "df['year'] = df['Date'].dt.to_period('Y')\n",
        "\n",
        "# التأكد من النتيجة\n",
        "print(df.head())\n"
      ],
      "metadata": {
        "colab": {
          "base_uri": "https://localhost:8080/"
        },
        "id": "YtyIRTQFnNIU",
        "outputId": "3f85ebbc-6fb3-4e5f-d5cf-377ae82c475b"
      },
      "execution_count": 14,
      "outputs": [
        {
          "output_type": "stream",
          "name": "stdout",
          "text": [
            "        Date      ?  ?.1  bills amount    month  year\n",
            "0 2020-01-01  344.0  0.0         344.0  2020-01  2020\n",
            "1 2020-02-01  344.0  0.0         344.0  2020-02  2020\n",
            "2 2020-03-01  344.0  0.0         344.0  2020-03  2020\n",
            "3 2020-04-01  344.0  0.0         344.0  2020-04  2020\n",
            "4 2020-05-01  344.0  0.0         344.0  2020-05  2020\n"
          ]
        }
      ]
    },
    {
      "cell_type": "code",
      "source": [
        "from prophet import Prophet\n",
        "\n",
        "# إعادة تسمية الأعمدة لتوافق Prophet\n",
        "df_prophet = df.rename(columns={'Date': 'ds', 'bills amount': 'y'})\n",
        "\n",
        "# تأكد أن العمود y من نوع float\n",
        "df_prophet['y'] = df_prophet['y'].astype(float)\n",
        "\n",
        "print(df_prophet.head())\n"
      ],
      "metadata": {
        "colab": {
          "base_uri": "https://localhost:8080/"
        },
        "id": "PYMzQ0EknTd9",
        "outputId": "c89bdd22-bc87-47b4-cf5d-97de6823c682"
      },
      "execution_count": 15,
      "outputs": [
        {
          "output_type": "stream",
          "name": "stdout",
          "text": [
            "          ds      ?  ?.1      y    month  year\n",
            "0 2020-01-01  344.0  0.0  344.0  2020-01  2020\n",
            "1 2020-02-01  344.0  0.0  344.0  2020-02  2020\n",
            "2 2020-03-01  344.0  0.0  344.0  2020-03  2020\n",
            "3 2020-04-01  344.0  0.0  344.0  2020-04  2020\n",
            "4 2020-05-01  344.0  0.0  344.0  2020-05  2020\n"
          ]
        }
      ]
    },
    {
      "cell_type": "code",
      "source": [
        "model = Prophet(yearly_seasonality=True, daily_seasonality=False, weekly_seasonality=False)\n",
        "model.fit(df_prophet)\n"
      ],
      "metadata": {
        "colab": {
          "base_uri": "https://localhost:8080/"
        },
        "id": "J7ybCBh4nZ3a",
        "outputId": "101876fa-220f-49d5-de1e-9edbdd2b3177"
      },
      "execution_count": 16,
      "outputs": [
        {
          "output_type": "stream",
          "name": "stderr",
          "text": [
            "DEBUG:cmdstanpy:input tempfile: /tmp/tmpwyecdqkx/235ktdm2.json\n",
            "DEBUG:cmdstanpy:input tempfile: /tmp/tmpwyecdqkx/svbakmn6.json\n",
            "DEBUG:cmdstanpy:idx 0\n",
            "DEBUG:cmdstanpy:running CmdStan, num_threads: None\n",
            "DEBUG:cmdstanpy:CmdStan args: ['/usr/local/lib/python3.12/dist-packages/prophet/stan_model/prophet_model.bin', 'random', 'seed=53392', 'data', 'file=/tmp/tmpwyecdqkx/235ktdm2.json', 'init=/tmp/tmpwyecdqkx/svbakmn6.json', 'output', 'file=/tmp/tmpwyecdqkx/prophet_modelj90y2l68/prophet_model-20251016104258.csv', 'method=optimize', 'algorithm=newton', 'iter=10000']\n",
            "10:42:58 - cmdstanpy - INFO - Chain [1] start processing\n",
            "INFO:cmdstanpy:Chain [1] start processing\n",
            "10:42:58 - cmdstanpy - INFO - Chain [1] done processing\n",
            "INFO:cmdstanpy:Chain [1] done processing\n"
          ]
        },
        {
          "output_type": "execute_result",
          "data": {
            "text/plain": [
              "<prophet.forecaster.Prophet at 0x78f61e9bf1d0>"
            ]
          },
          "metadata": {},
          "execution_count": 16
        }
      ]
    },
    {
      "cell_type": "code",
      "source": [
        "# هنا نتوقع لـ 12 شهر قادم\n",
        "future = model.make_future_dataframe(periods=12, freq='MS')  # MS = Month Start\n",
        "forecast = model.predict(future)\n",
        "\n",
        "print(forecast[['ds', 'yhat', 'yhat_lower', 'yhat_upper']].tail(12))\n"
      ],
      "metadata": {
        "colab": {
          "base_uri": "https://localhost:8080/"
        },
        "id": "UwBiyC_nnc6s",
        "outputId": "2434d8f8-88ee-4bcd-da7e-c0a704e20781"
      },
      "execution_count": 17,
      "outputs": [
        {
          "output_type": "stream",
          "name": "stdout",
          "text": [
            "           ds        yhat  yhat_lower  yhat_upper\n",
            "70 2025-11-01  593.148942  490.829449  701.347317\n",
            "71 2025-12-01  592.971953  487.017389  704.628795\n",
            "72 2026-01-01  590.514747  486.369965  701.004146\n",
            "73 2026-02-01  591.582897  492.027153  698.807298\n",
            "74 2026-03-01  574.606912  470.343808  674.995411\n",
            "75 2026-04-01  579.740688  476.136049  679.871200\n",
            "76 2026-05-01  585.579631  483.882379  691.061918\n",
            "77 2026-06-01  592.400626  489.267895  699.483306\n",
            "78 2026-07-01  598.457349  490.150263  707.528541\n",
            "79 2026-08-01  375.449197  267.807204  476.610597\n",
            "80 2026-09-01  651.127206  547.010255  759.839079\n",
            "81 2026-10-01  595.953564  496.167624  705.097597\n"
          ]
        }
      ]
    },
    {
      "cell_type": "code",
      "source": [
        "from prophet.plot import plot_plotly\n",
        "import plotly.offline as py\n",
        "\n",
        "fig = plot_plotly(model, forecast)\n",
        "py.plot(fig, filename='electricity_forecast.html')\n"
      ],
      "metadata": {
        "colab": {
          "base_uri": "https://localhost:8080/",
          "height": 35
        },
        "id": "s6Z7pDYcng4W",
        "outputId": "8fa145ea-86c3-470c-c3ad-6309b3d651d3"
      },
      "execution_count": 18,
      "outputs": [
        {
          "output_type": "execute_result",
          "data": {
            "text/plain": [
              "'electricity_forecast.html'"
            ],
            "application/vnd.google.colaboratory.intrinsic+json": {
              "type": "string"
            }
          },
          "metadata": {},
          "execution_count": 18
        }
      ]
    }
  ]
}